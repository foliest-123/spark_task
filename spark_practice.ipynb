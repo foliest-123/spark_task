{
 "cells": [
  {
   "cell_type": "code",
   "execution_count": 3,
   "metadata": {},
   "outputs": [],
   "source": [
    "from pyspark.sql import SparkSession\n",
    "from datetime import datetime, date\n",
    "from pyspark.sql.functions import col , avg , count, stddev_pop, length, replace, size , split , regexp_replace\n",
    "import os"
   ]
  },
  {
   "cell_type": "code",
   "execution_count": 10,
   "metadata": {},
   "outputs": [
    {
     "name": "stdout",
     "output_type": "stream",
     "text": [
      "+----------+--------------------+--------------------+--------------------+--------------------+--------------------+--------------------+--------------------+--------------------+--------------------+--------------------+\n",
      "|      asin|               title|              imgUrl|          productURL|               stars|             reviews|               price|           listPrice|        categoryName|        isBestSeller|   boughtInLastMonth|\n",
      "+----------+--------------------+--------------------+--------------------+--------------------+--------------------+--------------------+--------------------+--------------------+--------------------+--------------------+\n",
      "|B0C154VR2L|\"SAMSUNG Smart TV...| Samsung Gaming Hub\"|https://m.media-a...|https://www.amazo...|                 4.6|                 269|             2279.05|                 0.0|TV, Áudio e Cinem...|               False|\n",
      "|B0C85J5HYD|Mini Projetor Por...|https://m.media-a...|https://www.amazo...|                 4.5|                 816|              409.99|                 0.0|TV Áudio e Cinema...|                True|                5000|\n",
      "|B0C1538ZJ4|\"Samsung Smart TV...| Samsung Gaming Hub\"|https://m.media-a...|https://www.amazo...|                 4.7|                 638|              1969.0|              2499.0|TV, Áudio e Cinem...|               False|\n",
      "|B0B4V379PC|Samsung 60BU8000 ...|https://m.media-a...|https://www.amazo...|                 4.6|                 675|              3099.0|                 0.0|TV, Áudio e Cinem...|               False|                   0|\n",
      "|B0899BRB4B|Smart TV LED 32''...|https://m.media-a...|https://www.amazo...|                 4.7|                3945|              1079.9|              1369.0|TV, Áudio e Cinem...|                True|                   0|\n",
      "|B0BTF68G5R|Samsung Q90T - Sm...|                  4K|                 UHD|               120Hz|      Alexa built in|  Processador com IA|   Tela sem limites\"|https://m.media-a...|https://www.amazo...|                 4.6|\n",
      "|B0C6NL4QK3|\"Smart TV 43\"\" 4K...|https://m.media-a...|https://www.amazo...|                 4.5|                 111|              1899.0|              2849.0|TV, Áudio e Cinem...|               False|                   0|\n",
      "|B08B14TSHS|\"Samsung UN32T430...|                Wifi|                HDMI|                USB\"|https://m.media-a...|https://www.amazo...|                 4.7|                2480|              1071.0|              1369.0|\n",
      "|B0899GJHWR|\"Smart TV LED 43\"...|              2 HDMI|               1 USB|               Wi-Fi|                 HDR| Sistema Operacio...|https://m.media-a...|https://www.amazo...|                 4.7|                 517|\n",
      "|B09KNTBKMP|Roku Express - St...|https://m.media-a...|https://www.amazo...|                 4.7|                8391|               212.0|               222.9|TV, Áudio e Cinem...|               False|                   0|\n",
      "|B0CC5RRGZ9|Mini Projetor Por...|https://m.media-a...|https://www.amazo...|                 4.5|                 555|               399.0|              599.99|TV, Áudio e Cinem...|               False|                2000|\n",
      "|B088C4QZV2|Lâmpada Inteligen...|https://m.media-a...|https://www.amazo...|                 4.6|               42444|               49.93|                99.0|TV, Áudio e Cinem...|                True|                   0|\n",
      "|B0B5HJYL3B|\"2022 Smart TV LG...|https://m.media-a...|https://www.amazo...|                 4.7|                 978|             1161.57|                 0.0|TV, Áudio e Cinem...|               False|                   0|\n",
      "|B0C153ML9K|\"Samsung Smart TV...|  Samsung Gaming Hub| Painel Dynamic C...|https://m.media-a...|https://www.amazo...|                 4.4|                  94|             2861.24|                 0.0|TV, Áudio e Cinem...|\n",
      "|B0C7W863T2|Smart TV 32” Phil...|https://m.media-a...|https://www.amazo...|                 4.3|                  81|               999.9|              1199.9|TV, Áudio e Cinem...|               False|                   0|\n",
      "|B0C4ZN3PPS|\"Smart TV 50\"\" 4K...|https://m.media-a...|https://www.amazo...|                 4.9|                  52|              2198.3|                 0.0|TV, Áudio e Cinem...|               False|                   0|\n",
      "|B0C15423S3|\"Samsung Smart TV...|  Samsung Gaming Hub| Painel Dynamic C...|https://m.media-a...|https://www.amazo...|                 4.7|                 176|              2399.0|                 0.0|TV, Áudio e Cinem...|\n",
      "|B0C14ZM9MQ|\"Smart TV Crystal...|  Samsung Gaming Hub| Painel Dynamic C...|https://m.media-a...|https://www.amazo...|                 4.7|                  79|              3496.0|                 0.0|TV, Áudio e Cinem...|\n",
      "|B0BW19LGZR|Fast Smart TV Phi...|https://m.media-a...|https://www.amazo...|                 4.4|                 185|              1499.0|              1599.9|TV, Áudio e Cinem...|               False|                   0|\n",
      "|B0C6NJLG7B|\"Smart TV 55\"\" 4K...|https://m.media-a...|https://www.amazo...|                 4.6|                  87|              2488.0|              2620.0|TV, Áudio e Cinem...|               False|                   0|\n",
      "+----------+--------------------+--------------------+--------------------+--------------------+--------------------+--------------------+--------------------+--------------------+--------------------+--------------------+\n",
      "only showing top 20 rows\n",
      "\n"
     ]
    },
    {
     "data": {
      "text/html": [
       "<table border='1'>\n",
       "<tr><th>asin</th><th>title</th><th>imgUrl</th><th>productURL</th><th>stars</th><th>reviews</th><th>price</th><th>listPrice</th><th>categoryName</th><th>isBestSeller</th><th>boughtInLastMonth</th></tr>\n",
       "<tr><td>B0C154VR2L</td><td>&quot;SAMSUNG Smart TV...</td><td> Samsung Gaming Hub&quot;</td><td>https://m.media-a...</td><td>https://www.amazo...</td><td>4.6</td><td>269</td><td>2279.05</td><td>0.0</td><td>TV, &Aacute;udio e Cinem...</td><td>False</td></tr>\n",
       "<tr><td>B0C85J5HYD</td><td>Mini Projetor Por...</td><td>https://m.media-a...</td><td>https://www.amazo...</td><td>4.5</td><td>816</td><td>409.99</td><td>0.0</td><td>TV &Aacute;udio e Cinema...</td><td>True</td><td>5000</td></tr>\n",
       "<tr><td>B0C1538ZJ4</td><td>&quot;Samsung Smart TV...</td><td> Samsung Gaming Hub&quot;</td><td>https://m.media-a...</td><td>https://www.amazo...</td><td>4.7</td><td>638</td><td>1969.0</td><td>2499.0</td><td>TV, &Aacute;udio e Cinem...</td><td>False</td></tr>\n",
       "<tr><td>B0B4V379PC</td><td>Samsung 60BU8000 ...</td><td>https://m.media-a...</td><td>https://www.amazo...</td><td>4.6</td><td>675</td><td>3099.0</td><td>0.0</td><td>TV, &Aacute;udio e Cinem...</td><td>False</td><td>0</td></tr>\n",
       "<tr><td>B0899BRB4B</td><td>Smart TV LED 32''...</td><td>https://m.media-a...</td><td>https://www.amazo...</td><td>4.7</td><td>3945</td><td>1079.9</td><td>1369.0</td><td>TV, &Aacute;udio e Cinem...</td><td>True</td><td>0</td></tr>\n",
       "<tr><td>B0BTF68G5R</td><td>Samsung Q90T - Sm...</td><td> 4K</td><td> UHD</td><td> 120Hz</td><td> Alexa built in</td><td> Processador com IA</td><td> Tela sem limites&quot;</td><td>https://m.media-a...</td><td>https://www.amazo...</td><td>4.6</td></tr>\n",
       "<tr><td>B0C6NL4QK3</td><td>&quot;Smart TV 43&quot;&quot; 4K...</td><td>https://m.media-a...</td><td>https://www.amazo...</td><td>4.5</td><td>111</td><td>1899.0</td><td>2849.0</td><td>TV, &Aacute;udio e Cinem...</td><td>False</td><td>0</td></tr>\n",
       "<tr><td>B08B14TSHS</td><td>&quot;Samsung UN32T430...</td><td> Wifi</td><td> HDMI</td><td> USB&quot;</td><td>https://m.media-a...</td><td>https://www.amazo...</td><td>4.7</td><td>2480</td><td>1071.0</td><td>1369.0</td></tr>\n",
       "<tr><td>B0899GJHWR</td><td>&quot;Smart TV LED 43&quot;...</td><td> 2 HDMI</td><td> 1 USB</td><td> Wi-Fi</td><td> HDR</td><td> Sistema Operacio...</td><td>https://m.media-a...</td><td>https://www.amazo...</td><td>4.7</td><td>517</td></tr>\n",
       "<tr><td>B09KNTBKMP</td><td>Roku Express - St...</td><td>https://m.media-a...</td><td>https://www.amazo...</td><td>4.7</td><td>8391</td><td>212.0</td><td>222.9</td><td>TV, &Aacute;udio e Cinem...</td><td>False</td><td>0</td></tr>\n",
       "<tr><td>B0CC5RRGZ9</td><td>Mini Projetor Por...</td><td>https://m.media-a...</td><td>https://www.amazo...</td><td>4.5</td><td>555</td><td>399.0</td><td>599.99</td><td>TV, &Aacute;udio e Cinem...</td><td>False</td><td>2000</td></tr>\n",
       "<tr><td>B088C4QZV2</td><td>L&acirc;mpada Inteligen...</td><td>https://m.media-a...</td><td>https://www.amazo...</td><td>4.6</td><td>42444</td><td>49.93</td><td>99.0</td><td>TV, &Aacute;udio e Cinem...</td><td>True</td><td>0</td></tr>\n",
       "<tr><td>B0B5HJYL3B</td><td>&quot;2022 Smart TV LG...</td><td>https://m.media-a...</td><td>https://www.amazo...</td><td>4.7</td><td>978</td><td>1161.57</td><td>0.0</td><td>TV, &Aacute;udio e Cinem...</td><td>False</td><td>0</td></tr>\n",
       "<tr><td>B0C153ML9K</td><td>&quot;Samsung Smart TV...</td><td> Samsung Gaming Hub</td><td> Painel Dynamic C...</td><td>https://m.media-a...</td><td>https://www.amazo...</td><td>4.4</td><td>94</td><td>2861.24</td><td>0.0</td><td>TV, &Aacute;udio e Cinem...</td></tr>\n",
       "<tr><td>B0C7W863T2</td><td>Smart TV 32&rdquo; Phil...</td><td>https://m.media-a...</td><td>https://www.amazo...</td><td>4.3</td><td>81</td><td>999.9</td><td>1199.9</td><td>TV, &Aacute;udio e Cinem...</td><td>False</td><td>0</td></tr>\n",
       "<tr><td>B0C4ZN3PPS</td><td>&quot;Smart TV 50&quot;&quot; 4K...</td><td>https://m.media-a...</td><td>https://www.amazo...</td><td>4.9</td><td>52</td><td>2198.3</td><td>0.0</td><td>TV, &Aacute;udio e Cinem...</td><td>False</td><td>0</td></tr>\n",
       "<tr><td>B0C15423S3</td><td>&quot;Samsung Smart TV...</td><td> Samsung Gaming Hub</td><td> Painel Dynamic C...</td><td>https://m.media-a...</td><td>https://www.amazo...</td><td>4.7</td><td>176</td><td>2399.0</td><td>0.0</td><td>TV, &Aacute;udio e Cinem...</td></tr>\n",
       "<tr><td>B0C14ZM9MQ</td><td>&quot;Smart TV Crystal...</td><td> Samsung Gaming Hub</td><td> Painel Dynamic C...</td><td>https://m.media-a...</td><td>https://www.amazo...</td><td>4.7</td><td>79</td><td>3496.0</td><td>0.0</td><td>TV, &Aacute;udio e Cinem...</td></tr>\n",
       "<tr><td>B0BW19LGZR</td><td>Fast Smart TV Phi...</td><td>https://m.media-a...</td><td>https://www.amazo...</td><td>4.4</td><td>185</td><td>1499.0</td><td>1599.9</td><td>TV, &Aacute;udio e Cinem...</td><td>False</td><td>0</td></tr>\n",
       "<tr><td>B0C6NJLG7B</td><td>&quot;Smart TV 55&quot;&quot; 4K...</td><td>https://m.media-a...</td><td>https://www.amazo...</td><td>4.6</td><td>87</td><td>2488.0</td><td>2620.0</td><td>TV, &Aacute;udio e Cinem...</td><td>False</td><td>0</td></tr>\n",
       "</table>\n",
       "only showing top 20 rows\n"
      ],
      "text/plain": [
       "+----------+--------------------+--------------------+--------------------+--------------------+--------------------+--------------------+--------------------+--------------------+--------------------+--------------------+\n",
       "|      asin|               title|              imgUrl|          productURL|               stars|             reviews|               price|           listPrice|        categoryName|        isBestSeller|   boughtInLastMonth|\n",
       "+----------+--------------------+--------------------+--------------------+--------------------+--------------------+--------------------+--------------------+--------------------+--------------------+--------------------+\n",
       "|B0C154VR2L|\"SAMSUNG Smart TV...| Samsung Gaming Hub\"|https://m.media-a...|https://www.amazo...|                 4.6|                 269|             2279.05|                 0.0|TV, Áudio e Cinem...|               False|\n",
       "|B0C85J5HYD|Mini Projetor Por...|https://m.media-a...|https://www.amazo...|                 4.5|                 816|              409.99|                 0.0|TV Áudio e Cinema...|                True|                5000|\n",
       "|B0C1538ZJ4|\"Samsung Smart TV...| Samsung Gaming Hub\"|https://m.media-a...|https://www.amazo...|                 4.7|                 638|              1969.0|              2499.0|TV, Áudio e Cinem...|               False|\n",
       "|B0B4V379PC|Samsung 60BU8000 ...|https://m.media-a...|https://www.amazo...|                 4.6|                 675|              3099.0|                 0.0|TV, Áudio e Cinem...|               False|                   0|\n",
       "|B0899BRB4B|Smart TV LED 32''...|https://m.media-a...|https://www.amazo...|                 4.7|                3945|              1079.9|              1369.0|TV, Áudio e Cinem...|                True|                   0|\n",
       "|B0BTF68G5R|Samsung Q90T - Sm...|                  4K|                 UHD|               120Hz|      Alexa built in|  Processador com IA|   Tela sem limites\"|https://m.media-a...|https://www.amazo...|                 4.6|\n",
       "|B0C6NL4QK3|\"Smart TV 43\"\" 4K...|https://m.media-a...|https://www.amazo...|                 4.5|                 111|              1899.0|              2849.0|TV, Áudio e Cinem...|               False|                   0|\n",
       "|B08B14TSHS|\"Samsung UN32T430...|                Wifi|                HDMI|                USB\"|https://m.media-a...|https://www.amazo...|                 4.7|                2480|              1071.0|              1369.0|\n",
       "|B0899GJHWR|\"Smart TV LED 43\"...|              2 HDMI|               1 USB|               Wi-Fi|                 HDR| Sistema Operacio...|https://m.media-a...|https://www.amazo...|                 4.7|                 517|\n",
       "|B09KNTBKMP|Roku Express - St...|https://m.media-a...|https://www.amazo...|                 4.7|                8391|               212.0|               222.9|TV, Áudio e Cinem...|               False|                   0|\n",
       "|B0CC5RRGZ9|Mini Projetor Por...|https://m.media-a...|https://www.amazo...|                 4.5|                 555|               399.0|              599.99|TV, Áudio e Cinem...|               False|                2000|\n",
       "|B088C4QZV2|Lâmpada Inteligen...|https://m.media-a...|https://www.amazo...|                 4.6|               42444|               49.93|                99.0|TV, Áudio e Cinem...|                True|                   0|\n",
       "|B0B5HJYL3B|\"2022 Smart TV LG...|https://m.media-a...|https://www.amazo...|                 4.7|                 978|             1161.57|                 0.0|TV, Áudio e Cinem...|               False|                   0|\n",
       "|B0C153ML9K|\"Samsung Smart TV...|  Samsung Gaming Hub| Painel Dynamic C...|https://m.media-a...|https://www.amazo...|                 4.4|                  94|             2861.24|                 0.0|TV, Áudio e Cinem...|\n",
       "|B0C7W863T2|Smart TV 32” Phil...|https://m.media-a...|https://www.amazo...|                 4.3|                  81|               999.9|              1199.9|TV, Áudio e Cinem...|               False|                   0|\n",
       "|B0C4ZN3PPS|\"Smart TV 50\"\" 4K...|https://m.media-a...|https://www.amazo...|                 4.9|                  52|              2198.3|                 0.0|TV, Áudio e Cinem...|               False|                   0|\n",
       "|B0C15423S3|\"Samsung Smart TV...|  Samsung Gaming Hub| Painel Dynamic C...|https://m.media-a...|https://www.amazo...|                 4.7|                 176|              2399.0|                 0.0|TV, Áudio e Cinem...|\n",
       "|B0C14ZM9MQ|\"Smart TV Crystal...|  Samsung Gaming Hub| Painel Dynamic C...|https://m.media-a...|https://www.amazo...|                 4.7|                  79|              3496.0|                 0.0|TV, Áudio e Cinem...|\n",
       "|B0BW19LGZR|Fast Smart TV Phi...|https://m.media-a...|https://www.amazo...|                 4.4|                 185|              1499.0|              1599.9|TV, Áudio e Cinem...|               False|                   0|\n",
       "|B0C6NJLG7B|\"Smart TV 55\"\" 4K...|https://m.media-a...|https://www.amazo...|                 4.6|                  87|              2488.0|              2620.0|TV, Áudio e Cinem...|               False|                   0|\n",
       "+----------+--------------------+--------------------+--------------------+--------------------+--------------------+--------------------+--------------------+--------------------+--------------------+--------------------+\n",
       "only showing top 20 rows"
      ]
     },
     "execution_count": 10,
     "metadata": {},
     "output_type": "execute_result"
    }
   ],
   "source": [
    "# Set Google Cloud credentials\n",
    "os.environ['GOOGLE_APPLICATION_CREDENTIALS'] = r\"C:\\Users\\hi\\Downloads\\vijay-410011-a543addd551c.json\"\n",
    "\n",
    "# Create a SparkSession\n",
    "spark = SparkSession.builder.getOrCreate()\n",
    "\n",
    "# Configure Hadoop settings for GCS\n",
    "spark.conf.set(\"spark.sql.repl.eagerEval.enabled\", True)\n",
    "hadoop_conf = spark.sparkContext._jsc.hadoopConfiguration()\n",
    "hadoop_conf.set(\"fs.gs.impl\", \"com.google.cloud.hadoop.fs.gcs.GoogleHadoopFileSystem\")\n",
    "hadoop_conf.set(\"fs.AbstractFileSystem.gs.impl\", \"com.google.cloud.hadoop.fs.gcs.GoogleHadoopFS\")\n",
    "\n",
    "# Read CSV file from GCS\n",
    "df = spark.read.option(\"inferSchema\", \"true\").option(\"header\", \"true\").csv(\"gs://spark_data1/amazon_reviews.csv\")\n",
    "\n",
    "df.show()\n",
    "df.cache()  "
   ]
  },
  {
   "cell_type": "code",
   "execution_count": 5,
   "metadata": {},
   "outputs": [
    {
     "name": "stdout",
     "output_type": "stream",
     "text": [
      "+------------------+\n",
      "|      avg(reviews)|\n",
      "+------------------+\n",
      "|219.84163272298773|\n",
      "+------------------+\n",
      "\n"
     ]
    }
   ],
   "source": [
    "avg_column = df.select(avg(\"reviews\")).show()\n"
   ]
  },
  {
   "cell_type": "code",
   "execution_count": 6,
   "metadata": {},
   "outputs": [
    {
     "name": "stdout",
     "output_type": "stream",
     "text": [
      "+-----------------+\n",
      "|stddev_pop(price)|\n",
      "+-----------------+\n",
      "|833.4749624361606|\n",
      "+-----------------+\n",
      "\n"
     ]
    }
   ],
   "source": [
    "std_column = df.select(stddev_pop(\"price\")).show()\n"
   ]
  },
  {
   "cell_type": "code",
   "execution_count": 7,
   "metadata": {},
   "outputs": [
    {
     "name": "stdout",
     "output_type": "stream",
     "text": [
      "+--------------------+-----+\n",
      "|        categoryName|count|\n",
      "+--------------------+-----+\n",
      "|               Bebês|32007|\n",
      "|         Eletrônicos|31034|\n",
      "|            Mochilas|19051|\n",
      "|Produtos de Cuida...|19010|\n",
      "|Instrumentos para...|19004|\n",
      "+--------------------+-----+\n",
      "\n"
     ]
    }
   ],
   "source": [
    "Frequent_values = df.groupBy(\"categoryName\").count().orderBy(\"count\", ascending = False).limit(5).show()\n"
   ]
  },
  {
   "cell_type": "code",
   "execution_count": 8,
   "metadata": {},
   "outputs": [
    {
     "name": "stdout",
     "output_type": "stream",
     "text": [
      "+----------+--------------------+--------------------+--------------------+--------------------+--------------------+--------------------+--------------------+--------------------+--------------------+--------------------+\n",
      "|      asin|               title|              imgUrl|          productURL|               stars|             reviews|       product_price|           listPrice|        categoryName|        isBestSeller|   boughtInLastMonth|\n",
      "+----------+--------------------+--------------------+--------------------+--------------------+--------------------+--------------------+--------------------+--------------------+--------------------+--------------------+\n",
      "|B0C154VR2L|\"SAMSUNG Smart TV...| Samsung Gaming Hub\"|https://m.media-a...|https://www.amazo...|                 4.6|                 269|             2279.05|                 0.0|TV, Áudio e Cinem...|               False|\n",
      "|B0C85J5HYD|Mini Projetor Por...|https://m.media-a...|https://www.amazo...|                 4.5|                 816|              409.99|                 0.0|TV Áudio e Cinema...|                True|                5000|\n",
      "|B0C1538ZJ4|\"Samsung Smart TV...| Samsung Gaming Hub\"|https://m.media-a...|https://www.amazo...|                 4.7|                 638|              1969.0|              2499.0|TV, Áudio e Cinem...|               False|\n",
      "|B0B4V379PC|Samsung 60BU8000 ...|https://m.media-a...|https://www.amazo...|                 4.6|                 675|              3099.0|                 0.0|TV, Áudio e Cinem...|               False|                   0|\n",
      "|B0899BRB4B|Smart TV LED 32''...|https://m.media-a...|https://www.amazo...|                 4.7|                3945|              1079.9|              1369.0|TV, Áudio e Cinem...|                True|                   0|\n",
      "|B0BTF68G5R|Samsung Q90T - Sm...|                  4K|                 UHD|               120Hz|      Alexa built in|  Processador com IA|   Tela sem limites\"|https://m.media-a...|https://www.amazo...|                 4.6|\n",
      "|B0C6NL4QK3|\"Smart TV 43\"\" 4K...|https://m.media-a...|https://www.amazo...|                 4.5|                 111|              1899.0|              2849.0|TV, Áudio e Cinem...|               False|                   0|\n",
      "|B08B14TSHS|\"Samsung UN32T430...|                Wifi|                HDMI|                USB\"|https://m.media-a...|https://www.amazo...|                 4.7|                2480|              1071.0|              1369.0|\n",
      "|B0899GJHWR|\"Smart TV LED 43\"...|              2 HDMI|               1 USB|               Wi-Fi|                 HDR| Sistema Operacio...|https://m.media-a...|https://www.amazo...|                 4.7|                 517|\n",
      "|B09KNTBKMP|Roku Express - St...|https://m.media-a...|https://www.amazo...|                 4.7|                8391|               212.0|               222.9|TV, Áudio e Cinem...|               False|                   0|\n",
      "|B0CC5RRGZ9|Mini Projetor Por...|https://m.media-a...|https://www.amazo...|                 4.5|                 555|               399.0|              599.99|TV, Áudio e Cinem...|               False|                2000|\n",
      "|B088C4QZV2|Lâmpada Inteligen...|https://m.media-a...|https://www.amazo...|                 4.6|               42444|               49.93|                99.0|TV, Áudio e Cinem...|                True|                   0|\n",
      "|B0B5HJYL3B|\"2022 Smart TV LG...|https://m.media-a...|https://www.amazo...|                 4.7|                 978|             1161.57|                 0.0|TV, Áudio e Cinem...|               False|                   0|\n",
      "|B0C153ML9K|\"Samsung Smart TV...|  Samsung Gaming Hub| Painel Dynamic C...|https://m.media-a...|https://www.amazo...|                 4.4|                  94|             2861.24|                 0.0|TV, Áudio e Cinem...|\n",
      "|B0C7W863T2|Smart TV 32” Phil...|https://m.media-a...|https://www.amazo...|                 4.3|                  81|               999.9|              1199.9|TV, Áudio e Cinem...|               False|                   0|\n",
      "|B0C4ZN3PPS|\"Smart TV 50\"\" 4K...|https://m.media-a...|https://www.amazo...|                 4.9|                  52|              2198.3|                 0.0|TV, Áudio e Cinem...|               False|                   0|\n",
      "|B0C15423S3|\"Samsung Smart TV...|  Samsung Gaming Hub| Painel Dynamic C...|https://m.media-a...|https://www.amazo...|                 4.7|                 176|              2399.0|                 0.0|TV, Áudio e Cinem...|\n",
      "|B0C14ZM9MQ|\"Smart TV Crystal...|  Samsung Gaming Hub| Painel Dynamic C...|https://m.media-a...|https://www.amazo...|                 4.7|                  79|              3496.0|                 0.0|TV, Áudio e Cinem...|\n",
      "|B0BW19LGZR|Fast Smart TV Phi...|https://m.media-a...|https://www.amazo...|                 4.4|                 185|              1499.0|              1599.9|TV, Áudio e Cinem...|               False|                   0|\n",
      "|B0C6NJLG7B|\"Smart TV 55\"\" 4K...|https://m.media-a...|https://www.amazo...|                 4.6|                  87|              2488.0|              2620.0|TV, Áudio e Cinem...|               False|                   0|\n",
      "+----------+--------------------+--------------------+--------------------+--------------------+--------------------+--------------------+--------------------+--------------------+--------------------+--------------------+\n",
      "only showing top 20 rows\n",
      "\n"
     ]
    }
   ],
   "source": [
    "df = df.withColumnRenamed(\"price\", \"product_price\").show()\n"
   ]
  },
  {
   "cell_type": "code",
   "execution_count": 11,
   "metadata": {},
   "outputs": [
    {
     "name": "stdout",
     "output_type": "stream",
     "text": [
      "+-------+-------------------+--------------------+------------------+------------------+-----------------+------------------+--------------------+-----------------+------------------+-----------------+------------------+\n",
      "|summary|               asin|               title|            imgUrl|        productURL|            stars|           reviews|               price|        listPrice|      categoryName|     isBestSeller| boughtInLastMonth|\n",
      "+-------+-------------------+--------------------+------------------+------------------+-----------------+------------------+--------------------+-----------------+------------------+-----------------+------------------+\n",
      "|    min|         0000003956| Blocos de Montar...|            Micron|            Micron|                 |           & Games| (PS5 NOT Included)\"|                0|             1 USB| 127V (NACIONAL)\"|           16G RAM|\n",
      "|    25%|      6.555510463E9|                23.0|               1.0|              76.0|              0.0|               0.0|               24.99|              0.0|               0.0|              0.0|               0.0|\n",
      "|    75%|      8.556976875E9|              1984.0|              30.0|          712806.0|              4.2|               3.0|              153.02|              0.0|              55.5|            88.37|               0.0|\n",
      "|   mean|6.839342275159091E9|  1145.1306097560976|167500.61290322582|1759441.3580645162|308019.5779016938|219.84163272298773|  214.65747943830456|66.48259644916433|336.99671907040334|379.4660258780037|4.6067527296110935|\n",
      "+-------+-------------------+--------------------+------------------+------------------+-----------------+------------------+--------------------+-----------------+------------------+-----------------+------------------+\n",
      "\n"
     ]
    }
   ],
   "source": [
    "df_summary = df.summary(\"min\", \"25%\", \"75%\", \"mean\").show()\n"
   ]
  },
  {
   "cell_type": "code",
   "execution_count": 12,
   "metadata": {},
   "outputs": [
    {
     "name": "stdout",
     "output_type": "stream",
     "text": [
      "+----------+--------------------+----------+\n",
      "|      asin|        categoryName|word_count|\n",
      "+----------+--------------------+----------+\n",
      "|B0C154VR2L|                 0.0|         1|\n",
      "|B0C85J5HYD|TV Áudio e Cinema...|         6|\n",
      "|B0C1538ZJ4|              2499.0|         1|\n",
      "|B0B4V379PC|TV, Áudio e Cinem...|         6|\n",
      "|B0899BRB4B|TV, Áudio e Cinem...|         6|\n",
      "|B0BTF68G5R|https://m.media-a...|         1|\n",
      "|B0C6NL4QK3|TV, Áudio e Cinem...|         6|\n",
      "|B08B14TSHS|                2480|         1|\n",
      "|B0899GJHWR|https://www.amazo...|         1|\n",
      "|B09KNTBKMP|TV, Áudio e Cinem...|         6|\n",
      "|B0CC5RRGZ9|TV, Áudio e Cinem...|         6|\n",
      "|B088C4QZV2|TV, Áudio e Cinem...|         6|\n",
      "|B0B5HJYL3B|TV, Áudio e Cinem...|         6|\n",
      "|B0C153ML9K|             2861.24|         1|\n",
      "|B0C7W863T2|TV, Áudio e Cinem...|         6|\n",
      "|B0C4ZN3PPS|TV, Áudio e Cinem...|         6|\n",
      "|B0C15423S3|              2399.0|         1|\n",
      "|B0C14ZM9MQ|              3496.0|         1|\n",
      "|B0BW19LGZR|TV, Áudio e Cinem...|         6|\n",
      "|B0C6NJLG7B|TV, Áudio e Cinem...|         6|\n",
      "+----------+--------------------+----------+\n",
      "only showing top 20 rows\n",
      "\n"
     ]
    }
   ],
   "source": [
    "word_count = df.withColumn(\"word_count\",(length(col(\"categoryName\")) - length(regexp_replace(col(\"categoryName\"), \" \", \"\"))+1))\n",
    "\n",
    "word_count.select(\"asin\",\"categoryName\", \"word_count\").show()\n"
   ]
  },
  {
   "cell_type": "code",
   "execution_count": 15,
   "metadata": {},
   "outputs": [
    {
     "name": "stdout",
     "output_type": "stream",
     "text": [
      "+----+-----+----+\n",
      "|Name|Value|  id|\n",
      "+----+-----+----+\n",
      "|   A|    1|NULL|\n",
      "|   B| NULL| 123|\n",
      "|   B|    3| 456|\n",
      "|   D| NULL|NULL|\n",
      "+----+-----+----+\n",
      "\n"
     ]
    }
   ],
   "source": [
    "df1 = spark.createDataFrame([ (\"A\", 1, None), (\"B\", None, \"123\" ), (\"B\", 3, \"456\"), (\"D\", None, None), ], [\"Name\", \"Value\", \"id\"])\n",
    "df1.show() "
   ]
  },
  {
   "cell_type": "code",
   "execution_count": 16,
   "metadata": {},
   "outputs": [
    {
     "name": "stdout",
     "output_type": "stream",
     "text": [
      "+----+-----+---+\n",
      "|Name|Value| id|\n",
      "+----+-----+---+\n",
      "|   B|    3|456|\n",
      "+----+-----+---+\n",
      "\n"
     ]
    }
   ],
   "source": [
    "drop_df = df1.na.drop(subset=[\"id\" , \"value\"]).show()"
   ]
  },
  {
   "cell_type": "code",
   "execution_count": 2,
   "metadata": {},
   "outputs": [
    {
     "name": "stdout",
     "output_type": "stream",
     "text": [
      "+----------+--------------------+--------------------+--------------------+--------------------+--------------------+--------------------+--------------------+--------------------+--------------------+--------------------+\n",
      "|      asin|               title|              imgUrl|          productURL|               stars|             reviews|               price|           listPrice|        categoryName|        isBestSeller|   boughtInLastMonth|\n",
      "+----------+--------------------+--------------------+--------------------+--------------------+--------------------+--------------------+--------------------+--------------------+--------------------+--------------------+\n",
      "|B0C154VR2L|\"SAMSUNG Smart TV...| Samsung Gaming Hub\"|https://m.media-a...|https://www.amazo...|                 4.6|                 269|             2279.05|                 0.0|TV, Áudio e Cinem...|               False|\n",
      "|B0C85J5HYD|Mini Projetor Por...|https://m.media-a...|https://www.amazo...|                 4.5|                 816|              409.99|                 0.0|TV Áudio e Cinema...|                True|                5000|\n",
      "|B0C1538ZJ4|\"Samsung Smart TV...| Samsung Gaming Hub\"|https://m.media-a...|https://www.amazo...|                 4.7|                 638|              1969.0|              2499.0|TV, Áudio e Cinem...|               False|\n",
      "|B0B4V379PC|Samsung 60BU8000 ...|https://m.media-a...|https://www.amazo...|                 4.6|                 675|              3099.0|                 0.0|TV, Áudio e Cinem...|               False|                   0|\n",
      "|B0899BRB4B|Smart TV LED 32''...|https://m.media-a...|https://www.amazo...|                 4.7|                3945|              1079.9|              1369.0|TV, Áudio e Cinem...|                True|                   0|\n",
      "|B0BTF68G5R|Samsung Q90T - Sm...|                  4K|                 UHD|               120Hz|      Alexa built in|  Processador com IA|   Tela sem limites\"|https://m.media-a...|https://www.amazo...|                 4.6|\n",
      "|B0C6NL4QK3|\"Smart TV 43\"\" 4K...|https://m.media-a...|https://www.amazo...|                 4.5|                 111|              1899.0|              2849.0|TV, Áudio e Cinem...|               False|                   0|\n",
      "|B08B14TSHS|\"Samsung UN32T430...|                Wifi|                HDMI|                USB\"|https://m.media-a...|https://www.amazo...|                 4.7|                2480|              1071.0|              1369.0|\n",
      "|B0899GJHWR|\"Smart TV LED 43\"...|              2 HDMI|               1 USB|               Wi-Fi|                 HDR| Sistema Operacio...|https://m.media-a...|https://www.amazo...|                 4.7|                 517|\n",
      "|B09KNTBKMP|Roku Express - St...|https://m.media-a...|https://www.amazo...|                 4.7|                8391|               212.0|               222.9|TV, Áudio e Cinem...|               False|                   0|\n",
      "|B0CC5RRGZ9|Mini Projetor Por...|https://m.media-a...|https://www.amazo...|                 4.5|                 555|               399.0|              599.99|TV, Áudio e Cinem...|               False|                2000|\n",
      "|B088C4QZV2|Lâmpada Inteligen...|https://m.media-a...|https://www.amazo...|                 4.6|               42444|               49.93|                99.0|TV, Áudio e Cinem...|                True|                   0|\n",
      "|B0B5HJYL3B|\"2022 Smart TV LG...|https://m.media-a...|https://www.amazo...|                 4.7|                 978|             1161.57|                 0.0|TV, Áudio e Cinem...|               False|                   0|\n",
      "|B0C153ML9K|\"Samsung Smart TV...|  Samsung Gaming Hub| Painel Dynamic C...|https://m.media-a...|https://www.amazo...|                 4.4|                  94|             2861.24|                 0.0|TV, Áudio e Cinem...|\n",
      "|B0C7W863T2|Smart TV 32” Phil...|https://m.media-a...|https://www.amazo...|                 4.3|                  81|               999.9|              1199.9|TV, Áudio e Cinem...|               False|                   0|\n",
      "|B0C4ZN3PPS|\"Smart TV 50\"\" 4K...|https://m.media-a...|https://www.amazo...|                 4.9|                  52|              2198.3|                 0.0|TV, Áudio e Cinem...|               False|                   0|\n",
      "|B0C15423S3|\"Samsung Smart TV...|  Samsung Gaming Hub| Painel Dynamic C...|https://m.media-a...|https://www.amazo...|                 4.7|                 176|              2399.0|                 0.0|TV, Áudio e Cinem...|\n",
      "|B0C14ZM9MQ|\"Smart TV Crystal...|  Samsung Gaming Hub| Painel Dynamic C...|https://m.media-a...|https://www.amazo...|                 4.7|                  79|              3496.0|                 0.0|TV, Áudio e Cinem...|\n",
      "|B0BW19LGZR|Fast Smart TV Phi...|https://m.media-a...|https://www.amazo...|                 4.4|                 185|              1499.0|              1599.9|TV, Áudio e Cinem...|               False|                   0|\n",
      "|B0C6NJLG7B|\"Smart TV 55\"\" 4K...|https://m.media-a...|https://www.amazo...|                 4.6|                  87|              2488.0|              2620.0|TV, Áudio e Cinem...|               False|                   0|\n",
      "+----------+--------------------+--------------------+--------------------+--------------------+--------------------+--------------------+--------------------+--------------------+--------------------+--------------------+\n",
      "only showing top 20 rows\n",
      "\n"
     ]
    }
   ],
   "source": []
  },
  {
   "cell_type": "code",
   "execution_count": 2,
   "metadata": {},
   "outputs": [],
   "source": [
    "from pyspark.sql import SparkSession\n",
    "import os\n",
    "# Set up Spark session\n",
    "spark = SparkSession.builder.getOrCreate()\n",
    "os.environ['GOOGLE_APPLICATION_CREDENTIALS'] = r\"C:\\Users\\hi\\Downloads\\vijay-410011-a98c6db25f77.json\"\n",
    "\n",
    "# Read data from GCS and create DataFrame\n",
    "df = spark.read.option(\"inferSchema\", \"true\").option(\"header\", \"true\").csv(\"gs://spark_data1/amazon_reviews.csv\")\n",
    "\n",
    "# Show the DataFrame schema\n",
    "df.printSchema()\n",
    "\n",
    "# Show the first few rows of the DataFrame\n",
    "df.show()"
   ]
  },
  {
   "cell_type": "code",
   "execution_count": 21,
   "metadata": {},
   "outputs": [
    {
     "ename": "Py4JJavaError",
     "evalue": "An error occurred while calling o157.csv.\n: java.lang.IllegalStateException: No valid credential configuration discovered.\r\n\tat com.google.cloud.hadoop.util.CredentialConfiguration.getCredential(CredentialConfiguration.java:160)\r\n\tat com.google.cloud.hadoop.fs.gcs.GoogleHadoopFileSystemBase.getCredential(GoogleHadoopFileSystemBase.java:1613)\r\n\tat com.google.cloud.hadoop.fs.gcs.GoogleHadoopFileSystemBase.createGcsFs(GoogleHadoopFileSystemBase.java:1699)\r\n\tat com.google.cloud.hadoop.fs.gcs.GoogleHadoopFileSystemBase.configure(GoogleHadoopFileSystemBase.java:1658)\r\n\tat com.google.cloud.hadoop.fs.gcs.GoogleHadoopFileSystemBase.initialize(GoogleHadoopFileSystemBase.java:683)\r\n\tat com.google.cloud.hadoop.fs.gcs.GoogleHadoopFileSystemBase.initialize(GoogleHadoopFileSystemBase.java:646)\r\n\tat org.apache.hadoop.fs.FileSystem.createFileSystem(FileSystem.java:3469)\r\n\tat org.apache.hadoop.fs.FileSystem.access$300(FileSystem.java:174)\r\n\tat org.apache.hadoop.fs.FileSystem$Cache.getInternal(FileSystem.java:3574)\r\n\tat org.apache.hadoop.fs.FileSystem$Cache.get(FileSystem.java:3521)\r\n\tat org.apache.hadoop.fs.FileSystem.get(FileSystem.java:540)\r\n\tat org.apache.hadoop.fs.Path.getFileSystem(Path.java:365)\r\n\tat org.apache.spark.sql.execution.datasources.DataSource$.$anonfun$checkAndGlobPathIfNecessary$1(DataSource.scala:724)\r\n\tat scala.collection.immutable.List.map(List.scala:293)\r\n\tat org.apache.spark.sql.execution.datasources.DataSource$.checkAndGlobPathIfNecessary(DataSource.scala:722)\r\n\tat org.apache.spark.sql.execution.datasources.DataSource.checkAndGlobPathIfNecessary(DataSource.scala:551)\r\n\tat org.apache.spark.sql.execution.datasources.DataSource.resolveRelation(DataSource.scala:404)\r\n\tat org.apache.spark.sql.DataFrameReader.loadV1Source(DataFrameReader.scala:229)\r\n\tat org.apache.spark.sql.DataFrameReader.$anonfun$load$2(DataFrameReader.scala:211)\r\n\tat scala.Option.getOrElse(Option.scala:189)\r\n\tat org.apache.spark.sql.DataFrameReader.load(DataFrameReader.scala:211)\r\n\tat org.apache.spark.sql.DataFrameReader.csv(DataFrameReader.scala:538)\r\n\tat java.base/jdk.internal.reflect.NativeMethodAccessorImpl.invoke0(Native Method)\r\n\tat java.base/jdk.internal.reflect.NativeMethodAccessorImpl.invoke(NativeMethodAccessorImpl.java:77)\r\n\tat java.base/jdk.internal.reflect.DelegatingMethodAccessorImpl.invoke(DelegatingMethodAccessorImpl.java:43)\r\n\tat java.base/java.lang.reflect.Method.invoke(Method.java:568)\r\n\tat py4j.reflection.MethodInvoker.invoke(MethodInvoker.java:244)\r\n\tat py4j.reflection.ReflectionEngine.invoke(ReflectionEngine.java:374)\r\n\tat py4j.Gateway.invoke(Gateway.java:282)\r\n\tat py4j.commands.AbstractCommand.invokeMethod(AbstractCommand.java:132)\r\n\tat py4j.commands.CallCommand.execute(CallCommand.java:79)\r\n\tat py4j.ClientServerConnection.waitForCommands(ClientServerConnection.java:182)\r\n\tat py4j.ClientServerConnection.run(ClientServerConnection.java:106)\r\n\tat java.base/java.lang.Thread.run(Thread.java:842)\r\n",
     "output_type": "error",
     "traceback": [
      "\u001b[1;31m---------------------------------------------------------------------------\u001b[0m",
      "\u001b[1;31mPy4JJavaError\u001b[0m                             Traceback (most recent call last)",
      "Cell \u001b[1;32mIn[21], line 13\u001b[0m\n\u001b[0;32m     10\u001b[0m bucket_name\u001b[38;5;241m=\u001b[39m\u001b[38;5;124m\"\u001b[39m\u001b[38;5;124mgs://spark_data1\u001b[39m\u001b[38;5;124m\"\u001b[39m\n\u001b[0;32m     11\u001b[0m path\u001b[38;5;241m=\u001b[39m\u001b[38;5;124m\"\u001b[39m\u001b[38;5;124mgs://spark_data1/amazon_reviews.csv\u001b[39m\u001b[38;5;124m\"\u001b[39m\n\u001b[1;32m---> 13\u001b[0m df  \u001b[38;5;241m=\u001b[39m \u001b[43mspark\u001b[49m\u001b[38;5;241;43m.\u001b[39;49m\u001b[43mread\u001b[49m\u001b[38;5;241;43m.\u001b[39;49m\u001b[43moption\u001b[49m\u001b[43m(\u001b[49m\u001b[38;5;124;43m\"\u001b[39;49m\u001b[38;5;124;43mheader\u001b[39;49m\u001b[38;5;124;43m\"\u001b[39;49m\u001b[43m \u001b[49m\u001b[43m,\u001b[49m\u001b[43m \u001b[49m\u001b[38;5;124;43m\"\u001b[39;49m\u001b[38;5;124;43mtrue\u001b[39;49m\u001b[38;5;124;43m\"\u001b[39;49m\u001b[43m)\u001b[49m\u001b[38;5;241;43m.\u001b[39;49m\u001b[43mcsv\u001b[49m\u001b[43m(\u001b[49m\u001b[43mpath\u001b[49m\u001b[43m)\u001b[49m\n",
      "File \u001b[1;32mc:\\Users\\hi\\AppData\\Local\\Programs\\Python\\Python311\\Lib\\site-packages\\pyspark\\sql\\readwriter.py:740\u001b[0m, in \u001b[0;36mDataFrameReader.csv\u001b[1;34m(self, path, schema, sep, encoding, quote, escape, comment, header, inferSchema, ignoreLeadingWhiteSpace, ignoreTrailingWhiteSpace, nullValue, nanValue, positiveInf, negativeInf, dateFormat, timestampFormat, maxColumns, maxCharsPerColumn, maxMalformedLogPerPartition, mode, columnNameOfCorruptRecord, multiLine, charToEscapeQuoteEscaping, samplingRatio, enforceSchema, emptyValue, locale, lineSep, pathGlobFilter, recursiveFileLookup, modifiedBefore, modifiedAfter, unescapedQuoteHandling)\u001b[0m\n\u001b[0;32m    738\u001b[0m \u001b[38;5;28;01mif\u001b[39;00m \u001b[38;5;28mtype\u001b[39m(path) \u001b[38;5;241m==\u001b[39m \u001b[38;5;28mlist\u001b[39m:\n\u001b[0;32m    739\u001b[0m     \u001b[38;5;28;01massert\u001b[39;00m \u001b[38;5;28mself\u001b[39m\u001b[38;5;241m.\u001b[39m_spark\u001b[38;5;241m.\u001b[39m_sc\u001b[38;5;241m.\u001b[39m_jvm \u001b[38;5;129;01mis\u001b[39;00m \u001b[38;5;129;01mnot\u001b[39;00m \u001b[38;5;28;01mNone\u001b[39;00m\n\u001b[1;32m--> 740\u001b[0m     \u001b[38;5;28;01mreturn\u001b[39;00m \u001b[38;5;28mself\u001b[39m\u001b[38;5;241m.\u001b[39m_df(\u001b[38;5;28;43mself\u001b[39;49m\u001b[38;5;241;43m.\u001b[39;49m\u001b[43m_jreader\u001b[49m\u001b[38;5;241;43m.\u001b[39;49m\u001b[43mcsv\u001b[49m\u001b[43m(\u001b[49m\u001b[38;5;28;43mself\u001b[39;49m\u001b[38;5;241;43m.\u001b[39;49m\u001b[43m_spark\u001b[49m\u001b[38;5;241;43m.\u001b[39;49m\u001b[43m_sc\u001b[49m\u001b[38;5;241;43m.\u001b[39;49m\u001b[43m_jvm\u001b[49m\u001b[38;5;241;43m.\u001b[39;49m\u001b[43mPythonUtils\u001b[49m\u001b[38;5;241;43m.\u001b[39;49m\u001b[43mtoSeq\u001b[49m\u001b[43m(\u001b[49m\u001b[43mpath\u001b[49m\u001b[43m)\u001b[49m\u001b[43m)\u001b[49m)\n\u001b[0;32m    741\u001b[0m \u001b[38;5;28;01melif\u001b[39;00m \u001b[38;5;28misinstance\u001b[39m(path, RDD):\n\u001b[0;32m    743\u001b[0m     \u001b[38;5;28;01mdef\u001b[39;00m \u001b[38;5;21mfunc\u001b[39m(iterator):\n",
      "File \u001b[1;32mc:\\Users\\hi\\AppData\\Local\\Programs\\Python\\Python311\\Lib\\site-packages\\py4j\\java_gateway.py:1322\u001b[0m, in \u001b[0;36mJavaMember.__call__\u001b[1;34m(self, *args)\u001b[0m\n\u001b[0;32m   1316\u001b[0m command \u001b[38;5;241m=\u001b[39m proto\u001b[38;5;241m.\u001b[39mCALL_COMMAND_NAME \u001b[38;5;241m+\u001b[39m\\\n\u001b[0;32m   1317\u001b[0m     \u001b[38;5;28mself\u001b[39m\u001b[38;5;241m.\u001b[39mcommand_header \u001b[38;5;241m+\u001b[39m\\\n\u001b[0;32m   1318\u001b[0m     args_command \u001b[38;5;241m+\u001b[39m\\\n\u001b[0;32m   1319\u001b[0m     proto\u001b[38;5;241m.\u001b[39mEND_COMMAND_PART\n\u001b[0;32m   1321\u001b[0m answer \u001b[38;5;241m=\u001b[39m \u001b[38;5;28mself\u001b[39m\u001b[38;5;241m.\u001b[39mgateway_client\u001b[38;5;241m.\u001b[39msend_command(command)\n\u001b[1;32m-> 1322\u001b[0m return_value \u001b[38;5;241m=\u001b[39m \u001b[43mget_return_value\u001b[49m\u001b[43m(\u001b[49m\n\u001b[0;32m   1323\u001b[0m \u001b[43m    \u001b[49m\u001b[43manswer\u001b[49m\u001b[43m,\u001b[49m\u001b[43m \u001b[49m\u001b[38;5;28;43mself\u001b[39;49m\u001b[38;5;241;43m.\u001b[39;49m\u001b[43mgateway_client\u001b[49m\u001b[43m,\u001b[49m\u001b[43m \u001b[49m\u001b[38;5;28;43mself\u001b[39;49m\u001b[38;5;241;43m.\u001b[39;49m\u001b[43mtarget_id\u001b[49m\u001b[43m,\u001b[49m\u001b[43m \u001b[49m\u001b[38;5;28;43mself\u001b[39;49m\u001b[38;5;241;43m.\u001b[39;49m\u001b[43mname\u001b[49m\u001b[43m)\u001b[49m\n\u001b[0;32m   1325\u001b[0m \u001b[38;5;28;01mfor\u001b[39;00m temp_arg \u001b[38;5;129;01min\u001b[39;00m temp_args:\n\u001b[0;32m   1326\u001b[0m     \u001b[38;5;28;01mif\u001b[39;00m \u001b[38;5;28mhasattr\u001b[39m(temp_arg, \u001b[38;5;124m\"\u001b[39m\u001b[38;5;124m_detach\u001b[39m\u001b[38;5;124m\"\u001b[39m):\n",
      "File \u001b[1;32mc:\\Users\\hi\\AppData\\Local\\Programs\\Python\\Python311\\Lib\\site-packages\\pyspark\\errors\\exceptions\\captured.py:179\u001b[0m, in \u001b[0;36mcapture_sql_exception.<locals>.deco\u001b[1;34m(*a, **kw)\u001b[0m\n\u001b[0;32m    177\u001b[0m \u001b[38;5;28;01mdef\u001b[39;00m \u001b[38;5;21mdeco\u001b[39m(\u001b[38;5;241m*\u001b[39ma: Any, \u001b[38;5;241m*\u001b[39m\u001b[38;5;241m*\u001b[39mkw: Any) \u001b[38;5;241m-\u001b[39m\u001b[38;5;241m>\u001b[39m Any:\n\u001b[0;32m    178\u001b[0m     \u001b[38;5;28;01mtry\u001b[39;00m:\n\u001b[1;32m--> 179\u001b[0m         \u001b[38;5;28;01mreturn\u001b[39;00m \u001b[43mf\u001b[49m\u001b[43m(\u001b[49m\u001b[38;5;241;43m*\u001b[39;49m\u001b[43ma\u001b[49m\u001b[43m,\u001b[49m\u001b[43m \u001b[49m\u001b[38;5;241;43m*\u001b[39;49m\u001b[38;5;241;43m*\u001b[39;49m\u001b[43mkw\u001b[49m\u001b[43m)\u001b[49m\n\u001b[0;32m    180\u001b[0m     \u001b[38;5;28;01mexcept\u001b[39;00m Py4JJavaError \u001b[38;5;28;01mas\u001b[39;00m e:\n\u001b[0;32m    181\u001b[0m         converted \u001b[38;5;241m=\u001b[39m convert_exception(e\u001b[38;5;241m.\u001b[39mjava_exception)\n",
      "File \u001b[1;32mc:\\Users\\hi\\AppData\\Local\\Programs\\Python\\Python311\\Lib\\site-packages\\py4j\\protocol.py:326\u001b[0m, in \u001b[0;36mget_return_value\u001b[1;34m(answer, gateway_client, target_id, name)\u001b[0m\n\u001b[0;32m    324\u001b[0m value \u001b[38;5;241m=\u001b[39m OUTPUT_CONVERTER[\u001b[38;5;28mtype\u001b[39m](answer[\u001b[38;5;241m2\u001b[39m:], gateway_client)\n\u001b[0;32m    325\u001b[0m \u001b[38;5;28;01mif\u001b[39;00m answer[\u001b[38;5;241m1\u001b[39m] \u001b[38;5;241m==\u001b[39m REFERENCE_TYPE:\n\u001b[1;32m--> 326\u001b[0m     \u001b[38;5;28;01mraise\u001b[39;00m Py4JJavaError(\n\u001b[0;32m    327\u001b[0m         \u001b[38;5;124m\"\u001b[39m\u001b[38;5;124mAn error occurred while calling \u001b[39m\u001b[38;5;132;01m{0}\u001b[39;00m\u001b[38;5;132;01m{1}\u001b[39;00m\u001b[38;5;132;01m{2}\u001b[39;00m\u001b[38;5;124m.\u001b[39m\u001b[38;5;130;01m\\n\u001b[39;00m\u001b[38;5;124m\"\u001b[39m\u001b[38;5;241m.\u001b[39m\n\u001b[0;32m    328\u001b[0m         \u001b[38;5;28mformat\u001b[39m(target_id, \u001b[38;5;124m\"\u001b[39m\u001b[38;5;124m.\u001b[39m\u001b[38;5;124m\"\u001b[39m, name), value)\n\u001b[0;32m    329\u001b[0m \u001b[38;5;28;01melse\u001b[39;00m:\n\u001b[0;32m    330\u001b[0m     \u001b[38;5;28;01mraise\u001b[39;00m Py4JError(\n\u001b[0;32m    331\u001b[0m         \u001b[38;5;124m\"\u001b[39m\u001b[38;5;124mAn error occurred while calling \u001b[39m\u001b[38;5;132;01m{0}\u001b[39;00m\u001b[38;5;132;01m{1}\u001b[39;00m\u001b[38;5;132;01m{2}\u001b[39;00m\u001b[38;5;124m. Trace:\u001b[39m\u001b[38;5;130;01m\\n\u001b[39;00m\u001b[38;5;132;01m{3}\u001b[39;00m\u001b[38;5;130;01m\\n\u001b[39;00m\u001b[38;5;124m\"\u001b[39m\u001b[38;5;241m.\u001b[39m\n\u001b[0;32m    332\u001b[0m         \u001b[38;5;28mformat\u001b[39m(target_id, \u001b[38;5;124m\"\u001b[39m\u001b[38;5;124m.\u001b[39m\u001b[38;5;124m\"\u001b[39m, name, value))\n",
      "\u001b[1;31mPy4JJavaError\u001b[0m: An error occurred while calling o157.csv.\n: java.lang.IllegalStateException: No valid credential configuration discovered.\r\n\tat com.google.cloud.hadoop.util.CredentialConfiguration.getCredential(CredentialConfiguration.java:160)\r\n\tat com.google.cloud.hadoop.fs.gcs.GoogleHadoopFileSystemBase.getCredential(GoogleHadoopFileSystemBase.java:1613)\r\n\tat com.google.cloud.hadoop.fs.gcs.GoogleHadoopFileSystemBase.createGcsFs(GoogleHadoopFileSystemBase.java:1699)\r\n\tat com.google.cloud.hadoop.fs.gcs.GoogleHadoopFileSystemBase.configure(GoogleHadoopFileSystemBase.java:1658)\r\n\tat com.google.cloud.hadoop.fs.gcs.GoogleHadoopFileSystemBase.initialize(GoogleHadoopFileSystemBase.java:683)\r\n\tat com.google.cloud.hadoop.fs.gcs.GoogleHadoopFileSystemBase.initialize(GoogleHadoopFileSystemBase.java:646)\r\n\tat org.apache.hadoop.fs.FileSystem.createFileSystem(FileSystem.java:3469)\r\n\tat org.apache.hadoop.fs.FileSystem.access$300(FileSystem.java:174)\r\n\tat org.apache.hadoop.fs.FileSystem$Cache.getInternal(FileSystem.java:3574)\r\n\tat org.apache.hadoop.fs.FileSystem$Cache.get(FileSystem.java:3521)\r\n\tat org.apache.hadoop.fs.FileSystem.get(FileSystem.java:540)\r\n\tat org.apache.hadoop.fs.Path.getFileSystem(Path.java:365)\r\n\tat org.apache.spark.sql.execution.datasources.DataSource$.$anonfun$checkAndGlobPathIfNecessary$1(DataSource.scala:724)\r\n\tat scala.collection.immutable.List.map(List.scala:293)\r\n\tat org.apache.spark.sql.execution.datasources.DataSource$.checkAndGlobPathIfNecessary(DataSource.scala:722)\r\n\tat org.apache.spark.sql.execution.datasources.DataSource.checkAndGlobPathIfNecessary(DataSource.scala:551)\r\n\tat org.apache.spark.sql.execution.datasources.DataSource.resolveRelation(DataSource.scala:404)\r\n\tat org.apache.spark.sql.DataFrameReader.loadV1Source(DataFrameReader.scala:229)\r\n\tat org.apache.spark.sql.DataFrameReader.$anonfun$load$2(DataFrameReader.scala:211)\r\n\tat scala.Option.getOrElse(Option.scala:189)\r\n\tat org.apache.spark.sql.DataFrameReader.load(DataFrameReader.scala:211)\r\n\tat org.apache.spark.sql.DataFrameReader.csv(DataFrameReader.scala:538)\r\n\tat java.base/jdk.internal.reflect.NativeMethodAccessorImpl.invoke0(Native Method)\r\n\tat java.base/jdk.internal.reflect.NativeMethodAccessorImpl.invoke(NativeMethodAccessorImpl.java:77)\r\n\tat java.base/jdk.internal.reflect.DelegatingMethodAccessorImpl.invoke(DelegatingMethodAccessorImpl.java:43)\r\n\tat java.base/java.lang.reflect.Method.invoke(Method.java:568)\r\n\tat py4j.reflection.MethodInvoker.invoke(MethodInvoker.java:244)\r\n\tat py4j.reflection.ReflectionEngine.invoke(ReflectionEngine.java:374)\r\n\tat py4j.Gateway.invoke(Gateway.java:282)\r\n\tat py4j.commands.AbstractCommand.invokeMethod(AbstractCommand.java:132)\r\n\tat py4j.commands.CallCommand.execute(CallCommand.java:79)\r\n\tat py4j.ClientServerConnection.waitForCommands(ClientServerConnection.java:182)\r\n\tat py4j.ClientServerConnection.run(ClientServerConnection.java:106)\r\n\tat java.base/java.lang.Thread.run(Thread.java:842)\r\n"
     ]
    }
   ],
   "source": [
    "from pyspark.sql import SparkSession\n",
    "import os\n",
    "os.environ['GOOGLE_APPLICATION_CREDENTIALS'] = r\"C:\\Users\\hi\\Downloads\\vijay-410011-a543addd551c.json\"\n",
    "spark = SparkSession.builder.appName('GCSFilesRead').getOrCreate()\n",
    "\n",
    "spark.conf.set(\"google.cloud.auth.service.account.enable\", \"true\")\n",
    "spark.conf.set(\"google.cloud.auth.service.account.json.keyfile\", r\"C:\\Users\\hi\\Downloads\\vijay-410011-a543addd551c.json\")\n",
    "spark.conf.set(\"fs.gs.auth.type\", \"SERVICE_ACCOUNT_JSON_KEYFILE\")\n",
    "\n",
    "bucket_name=\"gs://spark_data1\"\n",
    "path=\"gs://spark_data1/amazon_reviews.csv\"\n",
    "\n",
    "df  = spark.read.option(\"header\" , \"true\").csv(path)"
   ]
  }
 ],
 "metadata": {
  "kernelspec": {
   "display_name": "Python 3",
   "language": "python",
   "name": "python3"
  },
  "language_info": {
   "codemirror_mode": {
    "name": "ipython",
    "version": 3
   },
   "file_extension": ".py",
   "mimetype": "text/x-python",
   "name": "python",
   "nbconvert_exporter": "python",
   "pygments_lexer": "ipython3",
   "version": "3.11.7"
  }
 },
 "nbformat": 4,
 "nbformat_minor": 2
}
